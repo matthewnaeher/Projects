{
 "cells": [
  {
   "cell_type": "markdown",
   "metadata": {},
   "source": [
    "# Matthew Naeher\n",
    "\n",
    "## Introduction\n",
    "\n",
    "In this report, we will be visualizing baby name data from the US over the past century. The data for this project has been provided by the United States Social Security Administration. With this data, Pandas dataframes will be used to organize name counts by state, year, and sex. Using the dataframe, the data will then be visualized using Plotly Express. The two types of plots used are line graphs and choropleth maps. The line graphs will illustrate a change in name frequency or diversity over time, while the choropleth maps will allow this data to be visualized on a state-by-state basis.\n",
    "\n",
    "Using this dataset, we will explore three topics:\n",
    "1. Popularity of the name \"Matthew\" over time\n",
    "2. Name diversity over time\n",
    "3. The top name in each state per year"
   ]
  },
  {
   "cell_type": "markdown",
   "metadata": {},
   "source": [
    "## Preliminaries \n",
    "\n",
    "The code below imports necessary packages (e.g., Plotly Express, Pandas, and glob) so the dataset can be downloaded and unzipped."
   ]
  },
  {
   "cell_type": "code",
   "execution_count": 1,
   "metadata": {},
   "outputs": [],
   "source": [
    "import plotly.express as px"
   ]
  },
  {
   "cell_type": "code",
   "execution_count": null,
   "metadata": {},
   "outputs": [
    {
     "name": "stdout",
     "output_type": "stream",
     "text": [
      "Archive:  namesbystate.zip\r\n",
      "replace AK.TXT? [y]es, [n]o, [A]ll, [N]one, [r]ename: "
     ]
    }
   ],
   "source": [
    "from glob import glob\n",
    "\n",
    "from zipfile import ZipFile\n",
    "import requests\n",
    "import pandas as pd\n",
    "\n",
    "from glob import glob\n",
    "\n",
    "\n",
    "#When I tried unzipping namesbystate.zip the way that was provided on the course website, it created a gpgz file which I could not open. \n",
    "#To work around this, I unzipped this by passing the unzip command to the shell and loading all of the individual text files into the working directory.\n",
    "#I'm sorry for this inconvinience, but this was the only way I could figure out how to get the code working.\n",
    "!unzip namesbystate.zip "
   ]
  },
  {
   "cell_type": "code",
   "execution_count": null,
   "metadata": {},
   "outputs": [],
   "source": [
    "#Find all files of type txt\n",
    "glob('*.TXT')\n"
   ]
  },
  {
   "cell_type": "markdown",
   "metadata": {},
   "source": [
    "Below, the data from each individual txt file is concatenated into a single pandas dataframe."
   ]
  },
  {
   "cell_type": "code",
   "execution_count": null,
   "metadata": {},
   "outputs": [],
   "source": [
    "file_names = glob('*.TXT')\n",
    "\n",
    "df = pd.concat(\n",
    "    (pd.read_csv(f, names=['state', 'sex', 'year', 'name', 'count']) for f in file_names)\n",
    ").reset_index(drop=True)\n",
    "\n",
    "df.head()"
   ]
  },
  {
   "cell_type": "markdown",
   "metadata": {},
   "source": [
    "## Part 1: Popularity of the name \"Matthew\"\n",
    "\n",
    "To start, we will look at the popularity of the common name \"Matthew.\" Before we can visualize the data, we need to preprocess. To do so, a new dataframe is made to hold the count of the name Matthew for each year and state. Then, the number of Matthews will be divided by the total number of babies to determine the percentage of babies named Matthew. "
   ]
  },
  {
   "cell_type": "code",
   "execution_count": null,
   "metadata": {},
   "outputs": [],
   "source": [
    "# Create a dataframe of just Matthews\n",
    "matthew = df[df['name']==\"Matthew\"]\n",
    "#Create a dataframe holding the total number of babies for each state and year\n",
    "n_babies = df.groupby(by=[\"year\",\"state\"])[\"count\"].sum()\n",
    "n_babies_year = df.groupby(by=[\"year\"])[\"count\"].sum()\n",
    "n_babies"
   ]
  },
  {
   "cell_type": "code",
   "execution_count": null,
   "metadata": {},
   "outputs": [],
   "source": [
    "#Total the Matthews for the entire country for each year and find the percentage\n",
    "matthew_total = matthew.groupby(by=[\"year\"])['count'].sum()\n",
    "matthew_ratio = (matthew_total/n_babies_year)*100\n",
    "matthew_ratio.reset_index()\n"
   ]
  },
  {
   "cell_type": "code",
   "execution_count": null,
   "metadata": {},
   "outputs": [],
   "source": [
    "px.line(matthew_ratio, x = matthew_ratio.index, y=\"count\", title=\"Percentage of babies named 'Matthew' by year\", labels={\"count\": \"Percentage named Matthew\"})\n"
   ]
  },
  {
   "cell_type": "markdown",
   "metadata": {},
   "source": [
    "In the plot above, we see that the name Matthew saw a rise in popularity after 1950 and peaked in 1983 at 1.6%. It has been on a steady decline ever since.\n",
    "\n",
    "Now, we will evaluate the popularity of the name on a state-by-state basis. To do so, we will now group the Matthew dataframe by year and state and then find the frequency of the name by state."
   ]
  },
  {
   "cell_type": "code",
   "execution_count": null,
   "metadata": {},
   "outputs": [],
   "source": [
    "# Seperate again by state.\n",
    "matthew_total_state = matthew.groupby(by=[\"year\",\"state\"])['count'].sum()\n",
    "matthew_ratio_state = (matthew_total_state/n_babies)*100\n",
    "#Find the percentage of Matthews for each state\n",
    "matthew_ratio_state"
   ]
  },
  {
   "cell_type": "code",
   "execution_count": null,
   "metadata": {},
   "outputs": [],
   "source": [
    "matthew_ratio_state = matthew_ratio_state.reset_index()"
   ]
  },
  {
   "cell_type": "code",
   "execution_count": null,
   "metadata": {},
   "outputs": [],
   "source": [
    "matthew_ratio_state"
   ]
  },
  {
   "cell_type": "markdown",
   "metadata": {},
   "source": [
    "To illustrate the popularity of the name Matthew on a state-by-state basis, a choropleth map will be used. This map can be animated such that the data for each year between 1910 and 2019 can be visualized. The darker the green color, the more popular the name \"Matthew\" is in that state."
   ]
  },
  {
   "cell_type": "code",
   "execution_count": null,
   "metadata": {},
   "outputs": [],
   "source": [
    "fig = px.choropleth(matthew_ratio_state, \n",
    "                    locationmode=\"USA-states\",\n",
    "                    scope=\"usa\",\n",
    "                    locations=\"state\",\n",
    "                    color=\"count\",\n",
    "                    title=\"Percentage of babies named Matthew\",\n",
    "                    color_continuous_scale = \"greens\",\n",
    "                    range_color=(0, 2),\n",
    "                    animation_frame=\"year\",\n",
    "                    hover_name=\"count\",\n",
    "                    labels={\"count\": \"Percentage of babies named Matthew\"},\n",
    "                    hover_data = {\"state\":True}\n",
    "                   )\n",
    "\n",
    "\n",
    "\n",
    "fig.update_traces(marker_line_color=\"white\")\n",
    "fig.show()"
   ]
  },
  {
   "cell_type": "markdown",
   "metadata": {},
   "source": [
    "Looking at the change over time in the map, it is clear that when the name was on the rise after 1950 that it was first popular in the north before the south. When the name's popularity started to decrease post 1983, there was no clear regional pattern."
   ]
  },
  {
   "cell_type": "markdown",
   "metadata": {},
   "source": [
    "## Part 2: Analyzing name diversity\n",
    "\n",
    "Similar to the analysis of the name Matthew, we will now analyze how the number of different names has changed over time. First, we will see how many different names have been used across the whole country by year. Then, we will use a cholopleth map to see which state used the highest number of different names per year."
   ]
  },
  {
   "cell_type": "code",
   "execution_count": null,
   "metadata": {},
   "outputs": [],
   "source": [
    "#Disregard sex when getting the number of different names\n",
    "df.drop(\"sex\", axis=1)"
   ]
  },
  {
   "cell_type": "code",
   "execution_count": null,
   "metadata": {},
   "outputs": [],
   "source": [
    "unique_total = df.groupby(by=[\"year\"])['name'].nunique()\n",
    "unique_total.reset_index()"
   ]
  },
  {
   "cell_type": "code",
   "execution_count": null,
   "metadata": {},
   "outputs": [],
   "source": [
    "#Plpt unique names\n",
    "px.line(unique_total, x = unique_total.index, y=\"name\", labels={\"name\":\"Number of different names used\"},title=\"The number of different names given to babies in the US (1910-2019)\")\n"
   ]
  },
  {
   "cell_type": "markdown",
   "metadata": {},
   "source": [
    "In the plot above, the general trend shows that name diversity in the US has increased over time although we are now in a period of decline since the peak of 10,023 in 2007. It should also be noted that the actual number of different names is higher than reflected in this graph (and the subsequent plots in part 2 for name diversity) because data was only recorded if more than 5 babies were given the name."
   ]
  },
  {
   "cell_type": "markdown",
   "metadata": {},
   "source": [
    "Next, we will analyze the breakdown by state."
   ]
  },
  {
   "cell_type": "code",
   "execution_count": null,
   "metadata": {},
   "outputs": [],
   "source": [
    "# Group data by year and state\n",
    "unique_total_state = df.groupby(by=[\"year\",\"state\"])['name'].nunique()\n",
    "unique_total_state = unique_total_state.reset_index()\n",
    "unique_total_state"
   ]
  },
  {
   "cell_type": "markdown",
   "metadata": {},
   "source": [
    "Here, a choropleth map will be used to indicate the number of different names used in each state for each year. The darker the purple color, the higher the number of different names in a given state."
   ]
  },
  {
   "cell_type": "code",
   "execution_count": null,
   "metadata": {},
   "outputs": [],
   "source": [
    "fig = px.choropleth(unique_total_state, \n",
    "                    locationmode=\"USA-states\",\n",
    "                    scope=\"usa\",\n",
    "                    locations=\"state\",\n",
    "                    color=\"name\",\n",
    "                    title=\"Number of different names used by state\",\n",
    "                    color_continuous_scale = \"purples\",\n",
    "                    range_color=(0, 7000),\n",
    "                    animation_frame=\"year\",\n",
    "                    hover_name=\"state\",\n",
    "                    labels={\"name\": \"Different baby names\"},\n",
    "                    hover_data = {\"state\":True}\n",
    "                   )\n",
    "\n",
    " \n",
    "\n",
    "fig.update_traces(marker_line_color=\"white\")\n",
    "fig.show()"
   ]
  },
  {
   "cell_type": "markdown",
   "metadata": {},
   "source": [
    "Using the choropleth, we see the same trend of increased diversity over time. It is also apparent that the states New York, California, Texas, and Florida have the most name diversity in the past few decades. This can likely be attributed to the fact that these are the highest states in terms of population and that these states are among the most ethnically diverse."
   ]
  },
  {
   "cell_type": "markdown",
   "metadata": {},
   "source": [
    "Next, let's see if there's a significant difference in the number of different boy names and girl names."
   ]
  },
  {
   "cell_type": "code",
   "execution_count": null,
   "metadata": {},
   "outputs": [],
   "source": [
    "#Group data by year and sex\n",
    "unique_by_sex = df.groupby(by=[\"year\",\"sex\"])['name'].nunique()\n"
   ]
  },
  {
   "cell_type": "code",
   "execution_count": null,
   "metadata": {},
   "outputs": [],
   "source": [
    "unique_by_sex = unique_by_sex.reset_index()\n",
    "unique_by_sex"
   ]
  },
  {
   "cell_type": "code",
   "execution_count": null,
   "metadata": {},
   "outputs": [],
   "source": [
    "#Plot male and female data seperately\n",
    "px.line(unique_by_sex, x=\"year\", y=\"name\", color='sex', title=\"Male vs Female name diversity in US (1910-2019)\", labels={\"name\":\"Number of different names\"})\n"
   ]
  },
  {
   "cell_type": "markdown",
   "metadata": {},
   "source": [
    "The plot above illustrates that there is a similar trend in the name diversity of males and females, while females have consistently had a larger number of different names."
   ]
  },
  {
   "cell_type": "markdown",
   "metadata": {},
   "source": [
    "To conclude this analysis of name diversity, we will evaluate the breakdown by state and sex."
   ]
  },
  {
   "cell_type": "code",
   "execution_count": null,
   "metadata": {},
   "outputs": [],
   "source": [
    "# Also group by sex now.\n",
    "unique_by_sex_state = df.groupby(by=[\"year\",\"state\",\"sex\"])['name'].nunique()\n",
    "unique_by_sex_state.reset_index()"
   ]
  },
  {
   "cell_type": "code",
   "execution_count": null,
   "metadata": {},
   "outputs": [],
   "source": [
    "#Allow data to be grouped by sex\n",
    "unique_by_state_grouped = unique_by_sex_state.groupby(by=\"sex\")\n",
    "\n"
   ]
  },
  {
   "cell_type": "code",
   "execution_count": null,
   "metadata": {},
   "outputs": [],
   "source": [
    "#Make dataframe for girls\n",
    "girls = unique_by_state_grouped.get_group('F')\n",
    "girls = girls.reset_index()\n"
   ]
  },
  {
   "cell_type": "markdown",
   "metadata": {},
   "source": [
    "The choropleth below shows the number of different female names per state for each year. The darker the pink color, the more different names that have been assigned."
   ]
  },
  {
   "cell_type": "code",
   "execution_count": null,
   "metadata": {},
   "outputs": [],
   "source": [
    "#Create choropleth for female data\n",
    "fig = px.choropleth(girls, \n",
    "                    locationmode=\"USA-states\",\n",
    "                    scope=\"usa\",\n",
    "                    locations=\"state\",\n",
    "                    color=\"name\",\n",
    "                    title=\"Number of different female names used by state\",\n",
    "                    color_continuous_scale = \"magenta\",\n",
    "                    range_color=(0, 4000),\n",
    "                    animation_frame=\"year\",\n",
    "                    hover_name=\"state\",\n",
    "                    labels={\"name\": \"Different baby female names\"},\n",
    "                    hover_data = {\"state\":True}\n",
    "                   )\n",
    "\n",
    "\n",
    "fig.update_traces(marker_line_color=\"white\")\n",
    "fig.show()"
   ]
  },
  {
   "cell_type": "code",
   "execution_count": null,
   "metadata": {},
   "outputs": [],
   "source": [
    "#Create dataframe for boys\n",
    "boys = unique_by_state_grouped.get_group('M')\n",
    "boys = boys.reset_index()\n",
    "boys"
   ]
  },
  {
   "cell_type": "markdown",
   "metadata": {},
   "source": [
    "The choropleth below shows the number of different male names per state for each year. The darker the blue color, the more different names that have been assigned."
   ]
  },
  {
   "cell_type": "code",
   "execution_count": null,
   "metadata": {},
   "outputs": [],
   "source": [
    "#Create choropleth for boys \n",
    "fig = px.choropleth(boys, \n",
    "                    locationmode=\"USA-states\",\n",
    "                    scope=\"usa\",\n",
    "                    locations=\"state\",\n",
    "                    color=\"name\",\n",
    "                    title=\"Number of different male names used by state\",\n",
    "                    color_continuous_scale = \"blues\",\n",
    "                    range_color=(0, 4000),\n",
    "                    animation_frame=\"year\",\n",
    "                    hover_name=\"state\",\n",
    "                    labels={\"name\": \"Different baby male names\"},\n",
    "                    hover_data = {\"state\":True}\n",
    "                   )\n",
    "\n",
    "\n",
    "\n",
    "fig.update_traces(marker_line_color=\"white\")\n",
    "fig.show()"
   ]
  },
  {
   "cell_type": "markdown",
   "metadata": {},
   "source": [
    "The choropleths, now divided by sex, mostly mirror the trends from the combined choropleth as the more populous states tend to have more names."
   ]
  },
  {
   "cell_type": "markdown",
   "metadata": {},
   "source": [
    "## Part 3: Tracking the most popular name by state and sex\n",
    "\n",
    "In this final section, choropleth maps will be used to illustrate the most popular name for each year in every state. Data will be divided between males and females such that the most popular name from each sex can be seen. "
   ]
  },
  {
   "cell_type": "code",
   "execution_count": null,
   "metadata": {},
   "outputs": [],
   "source": [
    "n_babies = df.groupby(by=[\"state\",\"year\",\"sex\"])[\"count\"].sum()\n"
   ]
  },
  {
   "cell_type": "code",
   "execution_count": null,
   "metadata": {},
   "outputs": [],
   "source": [
    "# Function that gets the most popular name\n",
    "def top_name(grp):\n",
    "    return grp.sort_values(by=\"count\", ascending=False).head(1)\n",
    "\n"
   ]
  },
  {
   "cell_type": "code",
   "execution_count": null,
   "metadata": {},
   "outputs": [],
   "source": [
    "# Create datatframe for most popular male names\n",
    "top_state_name = df.groupby(by=\"sex\")\n",
    "\n",
    "top_state_boys = top_state_name.get_group('M')\n",
    "top_state_boys.reset_index()\n",
    "top_state_boys\n",
    "\n",
    "most_popular_boys = top_state_boys.groupby(by=[\"state\",\"year\", \"sex\"]).apply(top_name)\n",
    "\n"
   ]
  },
  {
   "cell_type": "code",
   "execution_count": null,
   "metadata": {},
   "outputs": [],
   "source": [
    "#Make choropleth of most popular male names\n",
    "fig = px.choropleth(most_popular_boys, \n",
    "                    locationmode=\"USA-states\",\n",
    "                    scope=\"usa\",\n",
    "                    locations=\"state\",\n",
    "                    color=\"name\",\n",
    "                    title=\"Frequency of state's most popular name\",\n",
    "                    color_continuous_scale = \"blues\",\n",
    "                    #range_color=(0, 0.1),\n",
    "                    animation_frame=\"year\",\n",
    "                    hover_name=\"state\",\n",
    "                    labels={\"name\": \"Top boy's name\"},\n",
    "                    hover_data = {\"state\":False, \"year\":False}\n",
    "                   )\n",
    "\n",
    "\n",
    "\n",
    "fig.update_traces(marker_line_color=\"white\")\n",
    "fig.show()"
   ]
  },
  {
   "cell_type": "markdown",
   "metadata": {},
   "source": [
    "In the choropleth above, the five most popular names for each year are listed in the legend. If a state's most popular name is not amongst the nation's top five, the state will be colored gray. In the early 20th century, the names \"John\" and \"Robert\" were popular in most states. Toward the end of the century, names such as \"Michael\" or \"Jacob\" reached similar heights, but for shorter periods of time."
   ]
  },
  {
   "cell_type": "code",
   "execution_count": null,
   "metadata": {},
   "outputs": [],
   "source": [
    "top_state_girls = top_state_name.get_group('F')\n",
    "top_state_girls.reset_index()\n",
    "top_state_girls\n",
    "\n",
    "most_popular_girls = top_state_girls.groupby(by=[\"state\",\"year\", \"sex\"]).apply(top_name)"
   ]
  },
  {
   "cell_type": "code",
   "execution_count": null,
   "metadata": {},
   "outputs": [],
   "source": [
    "fig = px.choropleth(most_popular_girls, \n",
    "                    locationmode=\"USA-states\",\n",
    "                    scope=\"usa\",\n",
    "                    locations=\"state\",\n",
    "                    color=\"name\",\n",
    "                    title=\"Most popular girl's name by state\",\n",
    "                    color_continuous_scale = \"blues\",\n",
    "                    range_color=(0, 0.1),\n",
    "                    animation_frame=\"year\",\n",
    "                    hover_name=\"state\",\n",
    "                    labels={\"name\": \"Top girl's name\"},\n",
    "                    hover_data = {\"state\":False}\n",
    "                   )\n",
    "\n",
    "\n",
    "\n",
    "fig.update_traces(marker_line_color=\"white\")\n",
    "fig.show()"
   ]
  },
  {
   "cell_type": "markdown",
   "metadata": {},
   "source": [
    "In the choropleth above, the three most popular female names for each year are listed in the legend. If a state's most popular name is not amongst the nation's top three, the state will be colored gray. We can ssee that the nanme \"Mary\" was extremely popular across the country for much of the early 20th century. Later in the century, the names  \"Lisa\" and \"Jennifer\" were the most popular in almost every state, albeit for a shorter period of time."
   ]
  },
  {
   "cell_type": "markdown",
   "metadata": {},
   "source": [
    "## Conclusion \n",
    "\n",
    "Upon analyzing the data provided by the Social Security Administration, it is clear that the popularity of certain names has changed over time. Americans have also become more creative with their naming, as the number of different baby names has steadily increased over time. Thanks to the tools provided by pandas and Plotly Express, this data could be easily processed and presented in a way that is easily digestible without having to read through thousands of rows of data. Plots such as choropleth maps allow us to take visualization further by breaking down data geographically by state."
   ]
  },
  {
   "cell_type": "code",
   "execution_count": null,
   "metadata": {},
   "outputs": [],
   "source": []
  }
 ],
 "metadata": {
  "kernelspec": {
   "display_name": "Python 3",
   "language": "python",
   "name": "python3"
  },
  "language_info": {
   "codemirror_mode": {
    "name": "ipython",
    "version": 3
   },
   "file_extension": ".py",
   "mimetype": "text/x-python",
   "name": "python",
   "nbconvert_exporter": "python",
   "pygments_lexer": "ipython3",
   "version": "3.8.3"
  }
 },
 "nbformat": 4,
 "nbformat_minor": 4
}
